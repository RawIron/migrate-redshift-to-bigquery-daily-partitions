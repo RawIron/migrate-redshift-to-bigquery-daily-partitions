{
 "cells": [
  {
   "cell_type": "markdown",
   "metadata": {},
   "source": [
    "# BigQuery: column value distribution"
   ]
  },
  {
   "cell_type": "markdown",
   "metadata": {},
   "source": [
    "## setup"
   ]
  },
  {
   "cell_type": "code",
   "execution_count": 1,
   "metadata": {
    "collapsed": false
   },
   "outputs": [
    {
     "name": "stdout",
     "output_type": "stream",
     "text": [
      "Populating the interactive namespace from numpy and matplotlib\n"
     ]
    }
   ],
   "source": [
    "%pylab inline"
   ]
  },
  {
   "cell_type": "code",
   "execution_count": 2,
   "metadata": {
    "collapsed": true
   },
   "outputs": [],
   "source": [
    "import numpy as np\n",
    "import pandas as pd\n",
    "import matplotlib.pyplot as plt\n",
    "import seaborn as sns"
   ]
  },
  {
   "cell_type": "code",
   "execution_count": 3,
   "metadata": {
    "collapsed": true
   },
   "outputs": [],
   "source": [
    "gcp_key = '../../etc/prod-ostro/gcp.json'\n",
    "gcp_project = 'zephyrus-ef4-prod-ostro'\n",
    "bq_dataset = 'ostro'"
   ]
  },
  {
   "cell_type": "markdown",
   "metadata": {},
   "source": [
    "### misc functions"
   ]
  },
  {
   "cell_type": "code",
   "execution_count": 4,
   "metadata": {
    "collapsed": true
   },
   "outputs": [],
   "source": [
    "def ppsql(sql_string):\n",
    "    print(sql_string.strip())"
   ]
  },
  {
   "cell_type": "markdown",
   "metadata": {},
   "source": [
    "## sql functions"
   ]
  },
  {
   "cell_type": "code",
   "execution_count": 5,
   "metadata": {
    "collapsed": true
   },
   "outputs": [],
   "source": [
    "def create_base(table_id, column_name, timestamp='timestamp'):\n",
    "    return \"\"\"\n",
    "    derived_base AS (\n",
    "        SELECT\n",
    "            format_date('%Y%m%d', DATE({timestamp})) as event_day,\n",
    "            extract(hour from {timestamp}) as event_hour,\n",
    "            {column} AS event_column\n",
    "        FROM {table}\n",
    "        WHERE _PARTITIONTIME BETWEEN TIMESTAMP('2017-09-04 00:00:00')\n",
    "                                 AND TIMESTAMP('2017-09-10 00:00:00')\n",
    "        )\n",
    "    \"\"\".format(table=table_id, column=column_name, timestamp=timestamp)"
   ]
  },
  {
   "cell_type": "code",
   "execution_count": 6,
   "metadata": {
    "collapsed": true
   },
   "outputs": [],
   "source": [
    "def create_base_percentile(table_id, column_name, timestamp='timestamp'):\n",
    "    return \"\"\"\n",
    "    percentiles AS (\n",
    "        SELECT\n",
    "            APPROX_QUANTILES({column}, 20) AS ptiles\n",
    "        FROM {table}\n",
    "        ),\n",
    "    \n",
    "    outlier_percentiles AS (\n",
    "        SELECT\n",
    "            ptiles[OFFSET(1)] AS ptile_lower,\n",
    "            ptiles[OFFSET(ARRAY_LENGTH(ptiles)-2)] AS ptile_upper\n",
    "        FROM percentiles\n",
    "        ),\n",
    "    \n",
    "    derived_base AS (\n",
    "        SELECT\n",
    "            format_date('%Y%m%d', DATE({timestamp})) as event_day,\n",
    "            extract(hour from {timestamp}) as event_hour,\n",
    "            {column} AS event_column\n",
    "        FROM {table}\n",
    "        WHERE _PARTITIONTIME BETWEEN TIMESTAMP('2017-09-04 00:00:00')\n",
    "                                 AND TIMESTAMP('2017-09-10 00:00:00')\n",
    "        AND {column} > (SELECT ptile_lower FROM outlier_percentiles)\n",
    "        AND {column} < (SELECT ptile_upper FROM outlier_percentiles)\n",
    "        )\n",
    "    \"\"\".format(table=table_id, column=column_name, timestamp=timestamp)"
   ]
  },
  {
   "cell_type": "code",
   "execution_count": 7,
   "metadata": {
    "collapsed": true
   },
   "outputs": [],
   "source": [
    "def create_bool_convert():\n",
    "    return \"\"\"\n",
    "    derived_number AS (\n",
    "        SELECT\n",
    "            event_day,\n",
    "            event_hour,\n",
    "            CASE event_column\n",
    "            WHEN true  THEN 0.75\n",
    "            WHEN false THEN 0.25\n",
    "            END AS number_column\n",
    "        FROM derived_base\n",
    "        )\n",
    "    \"\"\""
   ]
  },
  {
   "cell_type": "code",
   "execution_count": 8,
   "metadata": {
    "collapsed": true
   },
   "outputs": [],
   "source": [
    "def create_time_convert():\n",
    "    return \"\"\"\n",
    "    derived_number AS (\n",
    "        SELECT\n",
    "            event_day,\n",
    "            event_hour,\n",
    "            UNIX_SECONDS(event_column) AS number_column\n",
    "        FROM derived_base\n",
    "        )\n",
    "    \"\"\""
   ]
  },
  {
   "cell_type": "code",
   "execution_count": 9,
   "metadata": {
    "collapsed": true
   },
   "outputs": [],
   "source": [
    "def create_number_convert():\n",
    "    return \"\"\"\n",
    "    derived_number AS (\n",
    "        SELECT\n",
    "            event_day,\n",
    "            event_hour,\n",
    "            event_column AS number_column\n",
    "        FROM derived_base\n",
    "        )\n",
    "    \"\"\""
   ]
  },
  {
   "cell_type": "code",
   "execution_count": 10,
   "metadata": {
    "collapsed": true
   },
   "outputs": [],
   "source": [
    "def create_string_convert(slice_size=5):\n",
    "    if slice_size >= 0:\n",
    "        substr_parameters = \"event_column,0,{no_characters}\".format(no_characters=slice_size)\n",
    "    else:\n",
    "        substr_parameters = \"reverse(event_column),0,{no_characters}\".format(no_characters=(-1*slice_size))\n",
    "\n",
    "    return \"\"\"\n",
    "    string_substr AS (\n",
    "        SELECT\n",
    "            event_day,\n",
    "            event_hour,\n",
    "            SUBSTR({parameters}) AS string_column\n",
    "        FROM derived_base\n",
    "        ),\n",
    "\n",
    "    derived_number AS (\n",
    "        SELECT\n",
    "            event_day,\n",
    "            event_hour,\n",
    "            CAST(CONCAT('0x', SUBSTR(TO_HEX(MD5(string_column)),0,15)) AS INT64) AS number_column\n",
    "        FROM string_substr\n",
    "        )\n",
    "    \"\"\".format(parameters=substr_parameters)"
   ]
  },
  {
   "cell_type": "code",
   "execution_count": 11,
   "metadata": {
    "collapsed": true
   },
   "outputs": [],
   "source": [
    "def create_hash_convert():\n",
    "    return \"\"\"\n",
    "    derived_number AS (\n",
    "        SELECT\n",
    "            event_day,\n",
    "            event_hour,\n",
    "            STRTOL(SUBSTRING(event_column,0,15), 16) AS number_column\n",
    "        FROM derived_base\n",
    "        WHERE regexp_count(event_column, '[ABCDEF0123456789]') = length(event_column)\n",
    "        )\n",
    "    \"\"\""
   ]
  },
  {
   "cell_type": "code",
   "execution_count": 12,
   "metadata": {
    "collapsed": true
   },
   "outputs": [],
   "source": [
    "def create_stats():\n",
    "    return \"\"\"\n",
    "    derived_stats AS (\n",
    "        SELECT\n",
    "            min(number_column) AS min_value,\n",
    "            max(number_column) AS max_value,\n",
    "            max(number_column) - min(number_column) AS range_value,\n",
    "            avg(number_column) AS mean_value\n",
    "        FROM derived_number\n",
    "        WHERE number_column > 0\n",
    "        ),\n",
    "\n",
    "    derived_norm AS (\n",
    "        SELECT\n",
    "            event_day,\n",
    "            event_hour,\n",
    "            number_column as raw_value,\n",
    "            (CAST(number_column AS float64) - (SELECT min_value from derived_stats))\n",
    "                / (SELECT range_value from derived_stats)\n",
    "            AS normed_value\n",
    "        FROM derived_number\n",
    "        )\n",
    "    \"\"\""
   ]
  },
  {
   "cell_type": "code",
   "execution_count": 13,
   "metadata": {
    "collapsed": true
   },
   "outputs": [],
   "source": [
    "def create_normed(sql_base):\n",
    "    return \"\"\"\n",
    "    WITH\n",
    "    {base}\n",
    "\n",
    "    SELECT\n",
    "        event_day,\n",
    "        event_hour,\n",
    "        raw_value,\n",
    "        normed_value\n",
    "    FROM derived_norm\n",
    "    \"\"\".format(base=sql_base)"
   ]
  },
  {
   "cell_type": "code",
   "execution_count": 14,
   "metadata": {
    "collapsed": true
   },
   "outputs": [],
   "source": [
    "def create_column_stats(sql_base):\n",
    "    return \"\"\"\n",
    "    WITH\n",
    "    {base}\n",
    "\n",
    "    SELECT\n",
    "        min_value,\n",
    "        max_value,\n",
    "        range_value\n",
    "    FROM derived_stats\n",
    "    \"\"\".format(base=sql_base)"
   ]
  },
  {
   "cell_type": "code",
   "execution_count": 15,
   "metadata": {
    "collapsed": true
   },
   "outputs": [],
   "source": [
    "def create_normed_percentiles(sql_base):\n",
    "    queries = []\n",
    "    idx = 0\n",
    "    for tile in np.linspace(0.0, 1.0, num=21):\n",
    "        queries.append(\"\"\"\n",
    "            SELECT\n",
    "            {tile:.2f} AS ptile,\n",
    "            ptiles[OFFSET({index})] as ptile_value\n",
    "            FROM derived_percentiles\n",
    "            \"\"\".format(tile=tile, index=idx))\n",
    "        idx += 1\n",
    "    ptile_sql = ' UNION ALL '.join(queries)\n",
    "    \n",
    "    return \"\"\"\n",
    "    WITH\n",
    "    {base},\n",
    "    derived_percentiles AS (\n",
    "        SELECT\n",
    "            APPROX_QUANTILES(normed_value, 20) AS ptiles\n",
    "        FROM derived_norm\n",
    "        )\n",
    "    \n",
    "    {ptiles}\n",
    "    \"\"\".format(ptiles=ptile_sql, base=sql_base)"
   ]
  },
  {
   "cell_type": "markdown",
   "metadata": {},
   "source": [
    "## plot functions"
   ]
  },
  {
   "cell_type": "code",
   "execution_count": 16,
   "metadata": {
    "collapsed": true
   },
   "outputs": [],
   "source": [
    "def plot_one_per_day_overlay(df):\n",
    "    sns.set(style=\"white\", palette=\"muted\")\n",
    "    f, axes = plt.subplots(1, 1, figsize=(10, 7), sharex=True)\n",
    "    sns.despine(left=True)\n",
    "\n",
    "    b, g, r, p = sns.color_palette(\"muted\", 4)\n",
    "\n",
    "    for d in df['event_day'].unique():\n",
    "        if int(d) % 2 == 0: c=g\n",
    "        else: c=b\n",
    "        sns.distplot(df[(df['event_day'] == d)]['normed_value'], color=c)\n",
    "\n",
    "    plt.tight_layout()"
   ]
  },
  {
   "cell_type": "code",
   "execution_count": 17,
   "metadata": {
    "collapsed": true
   },
   "outputs": [],
   "source": [
    "def plot_one_hour(df, bins=20):\n",
    "    df[(df['event_day'] == '20170906') & (df['event_hour'] == 12)]['normed_value'].plot.hist(bins)"
   ]
  },
  {
   "cell_type": "code",
   "execution_count": 18,
   "metadata": {
    "collapsed": true
   },
   "outputs": [],
   "source": [
    "def plot_all(df, bins=20):\n",
    "    df['normed_value'].plot.hist(bins)"
   ]
  },
  {
   "cell_type": "code",
   "execution_count": 19,
   "metadata": {
    "collapsed": true
   },
   "outputs": [],
   "source": [
    "def plot_raw_all(df, bins=20):\n",
    "    df['raw_value'].plot.hist(bins)"
   ]
  },
  {
   "cell_type": "code",
   "execution_count": 30,
   "metadata": {
    "collapsed": true
   },
   "outputs": [],
   "source": [
    "def plot_cumul_all(df):\n",
    "    sns.distplot(df['normed_value'],\n",
    "             hist_kws=dict(cumulative=True),\n",
    "             kde_kws=dict(cumulative=True))"
   ]
  },
  {
   "cell_type": "markdown",
   "metadata": {},
   "source": [
    "## distribution of string values"
   ]
  },
  {
   "cell_type": "code",
   "execution_count": 20,
   "metadata": {
    "collapsed": true
   },
   "outputs": [],
   "source": [
    "table = '.'.join([bq_dataset, 'power_out'])"
   ]
  },
  {
   "cell_type": "code",
   "execution_count": 21,
   "metadata": {
    "collapsed": true
   },
   "outputs": [],
   "source": [
    "sql_prepare = ','.join([create_base(table, 'model'),\n",
    "                        create_string_convert(),\n",
    "                        create_stats()])"
   ]
  },
  {
   "cell_type": "code",
   "execution_count": null,
   "metadata": {
    "collapsed": false
   },
   "outputs": [],
   "source": [
    "df = pd.read_gbq(create_normed(sql_prepare),\n",
    "                 dialect = 'standard',\n",
    "                 project_id = gcp_project,\n",
    "                 private_key = gcp_key)"
   ]
  },
  {
   "cell_type": "code",
   "execution_count": null,
   "metadata": {
    "collapsed": false
   },
   "outputs": [],
   "source": [
    "df_stats = pd.read_gbq(create_column_stats(sql_prepare),\n",
    "                        dialect = 'standard',\n",
    "                        project_id = gcp_project,\n",
    "                        private_key = gcp_key)"
   ]
  },
  {
   "cell_type": "code",
   "execution_count": 24,
   "metadata": {
    "collapsed": false
   },
   "outputs": [
    {
     "data": {
      "text/html": [
       "<div>\n",
       "<style>\n",
       "    .dataframe thead tr:only-child th {\n",
       "        text-align: right;\n",
       "    }\n",
       "\n",
       "    .dataframe thead th {\n",
       "        text-align: left;\n",
       "    }\n",
       "\n",
       "    .dataframe tbody tr th {\n",
       "        vertical-align: top;\n",
       "    }\n",
       "</style>\n",
       "<table border=\"1\" class=\"dataframe\">\n",
       "  <thead>\n",
       "    <tr style=\"text-align: right;\">\n",
       "      <th></th>\n",
       "      <th>min_value</th>\n",
       "      <th>max_value</th>\n",
       "      <th>range_value</th>\n",
       "    </tr>\n",
       "  </thead>\n",
       "  <tbody>\n",
       "    <tr>\n",
       "      <th>0</th>\n",
       "      <td>738747573228445</td>\n",
       "      <td>1151708196245399645</td>\n",
       "      <td>1150969448672171200</td>\n",
       "    </tr>\n",
       "  </tbody>\n",
       "</table>\n",
       "</div>"
      ],
      "text/plain": [
       "         min_value            max_value          range_value\n",
       "0  738747573228445  1151708196245399645  1150969448672171200"
      ]
     },
     "execution_count": 24,
     "metadata": {},
     "output_type": "execute_result"
    }
   ],
   "source": [
    "df_stats"
   ]
  },
  {
   "cell_type": "code",
   "execution_count": 25,
   "metadata": {
    "collapsed": false
   },
   "outputs": [
    {
     "data": {
      "text/html": [
       "<div>\n",
       "<style>\n",
       "    .dataframe thead tr:only-child th {\n",
       "        text-align: right;\n",
       "    }\n",
       "\n",
       "    .dataframe thead th {\n",
       "        text-align: left;\n",
       "    }\n",
       "\n",
       "    .dataframe tbody tr th {\n",
       "        vertical-align: top;\n",
       "    }\n",
       "</style>\n",
       "<table border=\"1\" class=\"dataframe\">\n",
       "  <thead>\n",
       "    <tr style=\"text-align: right;\">\n",
       "      <th></th>\n",
       "      <th>event_day</th>\n",
       "      <th>event_hour</th>\n",
       "      <th>raw_value</th>\n",
       "      <th>normed_value</th>\n",
       "    </tr>\n",
       "  </thead>\n",
       "  <tbody>\n",
       "    <tr>\n",
       "      <th>0</th>\n",
       "      <td>20170909</td>\n",
       "      <td>17</td>\n",
       "      <td>626881450821167126</td>\n",
       "      <td>0.544013</td>\n",
       "    </tr>\n",
       "    <tr>\n",
       "      <th>1</th>\n",
       "      <td>20170909</td>\n",
       "      <td>17</td>\n",
       "      <td>626881450821167126</td>\n",
       "      <td>0.544013</td>\n",
       "    </tr>\n",
       "    <tr>\n",
       "      <th>2</th>\n",
       "      <td>20170909</td>\n",
       "      <td>17</td>\n",
       "      <td>626881450821167126</td>\n",
       "      <td>0.544013</td>\n",
       "    </tr>\n",
       "    <tr>\n",
       "      <th>3</th>\n",
       "      <td>20170909</td>\n",
       "      <td>17</td>\n",
       "      <td>626881450821167126</td>\n",
       "      <td>0.544013</td>\n",
       "    </tr>\n",
       "    <tr>\n",
       "      <th>4</th>\n",
       "      <td>20170909</td>\n",
       "      <td>17</td>\n",
       "      <td>626881450821167126</td>\n",
       "      <td>0.544013</td>\n",
       "    </tr>\n",
       "  </tbody>\n",
       "</table>\n",
       "</div>"
      ],
      "text/plain": [
       "  event_day  event_hour           raw_value  normed_value\n",
       "0  20170909          17  626881450821167126      0.544013\n",
       "1  20170909          17  626881450821167126      0.544013\n",
       "2  20170909          17  626881450821167126      0.544013\n",
       "3  20170909          17  626881450821167126      0.544013\n",
       "4  20170909          17  626881450821167126      0.544013"
      ]
     },
     "execution_count": 25,
     "metadata": {},
     "output_type": "execute_result"
    }
   ],
   "source": [
    "df[:5]"
   ]
  },
  {
   "cell_type": "markdown",
   "metadata": {},
   "source": [
    "### quantiles"
   ]
  },
  {
   "cell_type": "code",
   "execution_count": null,
   "metadata": {
    "collapsed": false
   },
   "outputs": [],
   "source": [
    "df_percentiles = pd.read_gbq(\n",
    "                     create_normed_percentiles(sql_prepare),\n",
    "                     dialect = 'standard',\n",
    "                     project_id = gcp_project,\n",
    "                     private_key = gcp_key)"
   ]
  },
  {
   "cell_type": "code",
   "execution_count": 27,
   "metadata": {
    "collapsed": false
   },
   "outputs": [
    {
     "data": {
      "text/html": [
       "<div>\n",
       "<style>\n",
       "    .dataframe thead tr:only-child th {\n",
       "        text-align: right;\n",
       "    }\n",
       "\n",
       "    .dataframe thead th {\n",
       "        text-align: left;\n",
       "    }\n",
       "\n",
       "    .dataframe tbody tr th {\n",
       "        vertical-align: top;\n",
       "    }\n",
       "</style>\n",
       "<table border=\"1\" class=\"dataframe\">\n",
       "  <thead>\n",
       "    <tr style=\"text-align: right;\">\n",
       "      <th></th>\n",
       "      <th>ptile</th>\n",
       "      <th>ptile_value</th>\n",
       "    </tr>\n",
       "  </thead>\n",
       "  <tbody>\n",
       "    <tr>\n",
       "      <th>0</th>\n",
       "      <td>0.00</td>\n",
       "      <td>0.000000</td>\n",
       "    </tr>\n",
       "    <tr>\n",
       "      <th>14</th>\n",
       "      <td>0.05</td>\n",
       "      <td>0.117436</td>\n",
       "    </tr>\n",
       "    <tr>\n",
       "      <th>13</th>\n",
       "      <td>0.10</td>\n",
       "      <td>0.201602</td>\n",
       "    </tr>\n",
       "    <tr>\n",
       "      <th>20</th>\n",
       "      <td>0.15</td>\n",
       "      <td>0.204471</td>\n",
       "    </tr>\n",
       "    <tr>\n",
       "      <th>2</th>\n",
       "      <td>0.20</td>\n",
       "      <td>0.283792</td>\n",
       "    </tr>\n",
       "    <tr>\n",
       "      <th>16</th>\n",
       "      <td>0.25</td>\n",
       "      <td>0.356066</td>\n",
       "    </tr>\n",
       "    <tr>\n",
       "      <th>11</th>\n",
       "      <td>0.30</td>\n",
       "      <td>0.453089</td>\n",
       "    </tr>\n",
       "    <tr>\n",
       "      <th>12</th>\n",
       "      <td>0.35</td>\n",
       "      <td>0.453089</td>\n",
       "    </tr>\n",
       "    <tr>\n",
       "      <th>18</th>\n",
       "      <td>0.40</td>\n",
       "      <td>0.531790</td>\n",
       "    </tr>\n",
       "    <tr>\n",
       "      <th>9</th>\n",
       "      <td>0.45</td>\n",
       "      <td>0.544013</td>\n",
       "    </tr>\n",
       "    <tr>\n",
       "      <th>8</th>\n",
       "      <td>0.50</td>\n",
       "      <td>0.544013</td>\n",
       "    </tr>\n",
       "    <tr>\n",
       "      <th>4</th>\n",
       "      <td>0.55</td>\n",
       "      <td>0.544013</td>\n",
       "    </tr>\n",
       "    <tr>\n",
       "      <th>5</th>\n",
       "      <td>0.60</td>\n",
       "      <td>0.544013</td>\n",
       "    </tr>\n",
       "    <tr>\n",
       "      <th>7</th>\n",
       "      <td>0.65</td>\n",
       "      <td>0.544013</td>\n",
       "    </tr>\n",
       "    <tr>\n",
       "      <th>10</th>\n",
       "      <td>0.70</td>\n",
       "      <td>0.544013</td>\n",
       "    </tr>\n",
       "    <tr>\n",
       "      <th>6</th>\n",
       "      <td>0.75</td>\n",
       "      <td>0.544013</td>\n",
       "    </tr>\n",
       "    <tr>\n",
       "      <th>19</th>\n",
       "      <td>0.80</td>\n",
       "      <td>0.578086</td>\n",
       "    </tr>\n",
       "    <tr>\n",
       "      <th>17</th>\n",
       "      <td>0.85</td>\n",
       "      <td>0.678446</td>\n",
       "    </tr>\n",
       "    <tr>\n",
       "      <th>15</th>\n",
       "      <td>0.90</td>\n",
       "      <td>0.801241</td>\n",
       "    </tr>\n",
       "    <tr>\n",
       "      <th>3</th>\n",
       "      <td>0.95</td>\n",
       "      <td>0.924492</td>\n",
       "    </tr>\n",
       "    <tr>\n",
       "      <th>1</th>\n",
       "      <td>1.00</td>\n",
       "      <td>1.000000</td>\n",
       "    </tr>\n",
       "  </tbody>\n",
       "</table>\n",
       "</div>"
      ],
      "text/plain": [
       "    ptile  ptile_value\n",
       "0    0.00     0.000000\n",
       "14   0.05     0.117436\n",
       "13   0.10     0.201602\n",
       "20   0.15     0.204471\n",
       "2    0.20     0.283792\n",
       "16   0.25     0.356066\n",
       "11   0.30     0.453089\n",
       "12   0.35     0.453089\n",
       "18   0.40     0.531790\n",
       "9    0.45     0.544013\n",
       "8    0.50     0.544013\n",
       "4    0.55     0.544013\n",
       "5    0.60     0.544013\n",
       "7    0.65     0.544013\n",
       "10   0.70     0.544013\n",
       "6    0.75     0.544013\n",
       "19   0.80     0.578086\n",
       "17   0.85     0.678446\n",
       "15   0.90     0.801241\n",
       "3    0.95     0.924492\n",
       "1    1.00     1.000000"
      ]
     },
     "execution_count": 27,
     "metadata": {},
     "output_type": "execute_result"
    }
   ],
   "source": [
    "df_percentiles.sort_values('ptile')"
   ]
  },
  {
   "cell_type": "code",
   "execution_count": 28,
   "metadata": {
    "collapsed": false
   },
   "outputs": [
    {
     "data": {
      "text/html": [
       "<div>\n",
       "<style>\n",
       "    .dataframe thead tr:only-child th {\n",
       "        text-align: right;\n",
       "    }\n",
       "\n",
       "    .dataframe thead th {\n",
       "        text-align: left;\n",
       "    }\n",
       "\n",
       "    .dataframe tbody tr th {\n",
       "        vertical-align: top;\n",
       "    }\n",
       "</style>\n",
       "<table border=\"1\" class=\"dataframe\">\n",
       "  <thead>\n",
       "    <tr style=\"text-align: right;\">\n",
       "      <th></th>\n",
       "      <th>event_hour</th>\n",
       "      <th>raw_value</th>\n",
       "      <th>normed_value</th>\n",
       "    </tr>\n",
       "  </thead>\n",
       "  <tbody>\n",
       "    <tr>\n",
       "      <th>0.00</th>\n",
       "      <td>0.0</td>\n",
       "      <td>7.387476e+14</td>\n",
       "      <td>0.000000</td>\n",
       "    </tr>\n",
       "    <tr>\n",
       "      <th>0.05</th>\n",
       "      <td>1.0</td>\n",
       "      <td>1.359040e+17</td>\n",
       "      <td>0.117436</td>\n",
       "    </tr>\n",
       "    <tr>\n",
       "      <th>0.10</th>\n",
       "      <td>2.0</td>\n",
       "      <td>2.327771e+17</td>\n",
       "      <td>0.201602</td>\n",
       "    </tr>\n",
       "    <tr>\n",
       "      <th>0.15</th>\n",
       "      <td>3.0</td>\n",
       "      <td>2.360785e+17</td>\n",
       "      <td>0.204471</td>\n",
       "    </tr>\n",
       "    <tr>\n",
       "      <th>0.20</th>\n",
       "      <td>5.0</td>\n",
       "      <td>3.273744e+17</td>\n",
       "      <td>0.283792</td>\n",
       "    </tr>\n",
       "    <tr>\n",
       "      <th>0.25</th>\n",
       "      <td>6.0</td>\n",
       "      <td>4.105597e+17</td>\n",
       "      <td>0.356066</td>\n",
       "    </tr>\n",
       "    <tr>\n",
       "      <th>0.30</th>\n",
       "      <td>7.0</td>\n",
       "      <td>5.222304e+17</td>\n",
       "      <td>0.453089</td>\n",
       "    </tr>\n",
       "    <tr>\n",
       "      <th>0.35</th>\n",
       "      <td>9.0</td>\n",
       "      <td>5.222304e+17</td>\n",
       "      <td>0.453089</td>\n",
       "    </tr>\n",
       "    <tr>\n",
       "      <th>0.40</th>\n",
       "      <td>11.0</td>\n",
       "      <td>6.128132e+17</td>\n",
       "      <td>0.531790</td>\n",
       "    </tr>\n",
       "    <tr>\n",
       "      <th>0.45</th>\n",
       "      <td>12.0</td>\n",
       "      <td>6.268815e+17</td>\n",
       "      <td>0.544013</td>\n",
       "    </tr>\n",
       "    <tr>\n",
       "      <th>0.50</th>\n",
       "      <td>13.0</td>\n",
       "      <td>6.268815e+17</td>\n",
       "      <td>0.544013</td>\n",
       "    </tr>\n",
       "    <tr>\n",
       "      <th>0.55</th>\n",
       "      <td>14.0</td>\n",
       "      <td>6.268815e+17</td>\n",
       "      <td>0.544013</td>\n",
       "    </tr>\n",
       "    <tr>\n",
       "      <th>0.60</th>\n",
       "      <td>15.0</td>\n",
       "      <td>6.268815e+17</td>\n",
       "      <td>0.544013</td>\n",
       "    </tr>\n",
       "    <tr>\n",
       "      <th>0.65</th>\n",
       "      <td>16.0</td>\n",
       "      <td>6.268815e+17</td>\n",
       "      <td>0.544013</td>\n",
       "    </tr>\n",
       "    <tr>\n",
       "      <th>0.70</th>\n",
       "      <td>17.0</td>\n",
       "      <td>6.268815e+17</td>\n",
       "      <td>0.544013</td>\n",
       "    </tr>\n",
       "    <tr>\n",
       "      <th>0.75</th>\n",
       "      <td>18.0</td>\n",
       "      <td>6.268815e+17</td>\n",
       "      <td>0.544013</td>\n",
       "    </tr>\n",
       "    <tr>\n",
       "      <th>0.80</th>\n",
       "      <td>19.0</td>\n",
       "      <td>6.660980e+17</td>\n",
       "      <td>0.578086</td>\n",
       "    </tr>\n",
       "    <tr>\n",
       "      <th>0.85</th>\n",
       "      <td>20.0</td>\n",
       "      <td>7.866503e+17</td>\n",
       "      <td>0.682826</td>\n",
       "    </tr>\n",
       "    <tr>\n",
       "      <th>0.90</th>\n",
       "      <td>21.0</td>\n",
       "      <td>9.229427e+17</td>\n",
       "      <td>0.801241</td>\n",
       "    </tr>\n",
       "    <tr>\n",
       "      <th>0.95</th>\n",
       "      <td>22.0</td>\n",
       "      <td>1.064801e+18</td>\n",
       "      <td>0.924492</td>\n",
       "    </tr>\n",
       "    <tr>\n",
       "      <th>1.00</th>\n",
       "      <td>23.0</td>\n",
       "      <td>1.151708e+18</td>\n",
       "      <td>1.000000</td>\n",
       "    </tr>\n",
       "  </tbody>\n",
       "</table>\n",
       "</div>"
      ],
      "text/plain": [
       "      event_hour     raw_value  normed_value\n",
       "0.00         0.0  7.387476e+14      0.000000\n",
       "0.05         1.0  1.359040e+17      0.117436\n",
       "0.10         2.0  2.327771e+17      0.201602\n",
       "0.15         3.0  2.360785e+17      0.204471\n",
       "0.20         5.0  3.273744e+17      0.283792\n",
       "0.25         6.0  4.105597e+17      0.356066\n",
       "0.30         7.0  5.222304e+17      0.453089\n",
       "0.35         9.0  5.222304e+17      0.453089\n",
       "0.40        11.0  6.128132e+17      0.531790\n",
       "0.45        12.0  6.268815e+17      0.544013\n",
       "0.50        13.0  6.268815e+17      0.544013\n",
       "0.55        14.0  6.268815e+17      0.544013\n",
       "0.60        15.0  6.268815e+17      0.544013\n",
       "0.65        16.0  6.268815e+17      0.544013\n",
       "0.70        17.0  6.268815e+17      0.544013\n",
       "0.75        18.0  6.268815e+17      0.544013\n",
       "0.80        19.0  6.660980e+17      0.578086\n",
       "0.85        20.0  7.866503e+17      0.682826\n",
       "0.90        21.0  9.229427e+17      0.801241\n",
       "0.95        22.0  1.064801e+18      0.924492\n",
       "1.00        23.0  1.151708e+18      1.000000"
      ]
     },
     "execution_count": 28,
     "metadata": {},
     "output_type": "execute_result"
    }
   ],
   "source": [
    "df.quantile(np.linspace(0.0, 1.0, num=21))"
   ]
  },
  {
   "cell_type": "code",
   "execution_count": 31,
   "metadata": {
    "collapsed": false
   },
   "outputs": [
    {
     "data": {
      "image/png": "[encoded data removed]",
      "text/plain": [
       "<matplotlib.figure.Figure at 0x7f782e9399b0>"
      ]
     },
     "metadata": {},
     "output_type": "display_data"
    }
   ],
   "source": [
    "plot_cumul_all(df)"
   ]
  },
  {
   "cell_type": "markdown",
   "metadata": {},
   "source": [
    "### plot all data"
   ]
  },
  {
   "cell_type": "code",
   "execution_count": 53,
   "metadata": {
    "collapsed": false
   },
   "outputs": [
    {
     "data": {
      "image/png": "[encoded data removed]",
      "text/plain": [
       "<matplotlib.figure.Figure at 0x7fc2107352e8>"
      ]
     },
     "metadata": {},
     "output_type": "display_data"
    }
   ],
   "source": [
    "plot_all(df)"
   ]
  },
  {
   "cell_type": "markdown",
   "metadata": {},
   "source": [
    "### plot one hour of a given day"
   ]
  },
  {
   "cell_type": "code",
   "execution_count": 28,
   "metadata": {
    "collapsed": false
   },
   "outputs": [
    {
     "data": {
      "image/png": "[encoded data removed]",
      "text/plain": [
       "<matplotlib.figure.Figure at 0x7fc8848d5588>"
      ]
     },
     "metadata": {},
     "output_type": "display_data"
    }
   ],
   "source": [
    "plot_one_hour(df)"
   ]
  },
  {
   "cell_type": "markdown",
   "metadata": {},
   "source": [
    "### one plot per day, overlayed"
   ]
  },
  {
   "cell_type": "code",
   "execution_count": 29,
   "metadata": {
    "collapsed": false
   },
   "outputs": [
    {
     "data": {
      "image/png": "[encoded data removed]",
      "text/plain": [
       "<matplotlib.figure.Figure at 0x7fc8861df898>"
      ]
     },
     "metadata": {},
     "output_type": "display_data"
    }
   ],
   "source": [
    "plot_one_per_day_overlay(df)"
   ]
  },
  {
   "cell_type": "markdown",
   "metadata": {},
   "source": [
    "## distribution of numeric values"
   ]
  },
  {
   "cell_type": "code",
   "execution_count": 76,
   "metadata": {
    "collapsed": true
   },
   "outputs": [],
   "source": [
    "sql_prepare = ','.join([create_base_percentile(table, 'kwh'),\n",
    "                        create_number_convert(),\n",
    "                        create_stats()])"
   ]
  },
  {
   "cell_type": "code",
   "execution_count": null,
   "metadata": {
    "collapsed": false
   },
   "outputs": [],
   "source": [
    "df = pd.read_gbq(create_normed(sql_prepare),\n",
    "                 dialect = 'standard',\n",
    "                 project_id = gcp_project,\n",
    "                 private_key = gcp_key)"
   ]
  },
  {
   "cell_type": "code",
   "execution_count": 78,
   "metadata": {
    "collapsed": false
   },
   "outputs": [
    {
     "data": {
      "text/html": [
       "<div>\n",
       "<style>\n",
       "    .dataframe thead tr:only-child th {\n",
       "        text-align: right;\n",
       "    }\n",
       "\n",
       "    .dataframe thead th {\n",
       "        text-align: left;\n",
       "    }\n",
       "\n",
       "    .dataframe tbody tr th {\n",
       "        vertical-align: top;\n",
       "    }\n",
       "</style>\n",
       "<table border=\"1\" class=\"dataframe\">\n",
       "  <thead>\n",
       "    <tr style=\"text-align: right;\">\n",
       "      <th></th>\n",
       "      <th>event_day</th>\n",
       "      <th>event_hour</th>\n",
       "      <th>raw_value</th>\n",
       "      <th>normed_value</th>\n",
       "    </tr>\n",
       "  </thead>\n",
       "  <tbody>\n",
       "    <tr>\n",
       "      <th>0</th>\n",
       "      <td>20170910</td>\n",
       "      <td>19</td>\n",
       "      <td>780</td>\n",
       "      <td>0.378285</td>\n",
       "    </tr>\n",
       "    <tr>\n",
       "      <th>1</th>\n",
       "      <td>20170910</td>\n",
       "      <td>19</td>\n",
       "      <td>780</td>\n",
       "      <td>0.378285</td>\n",
       "    </tr>\n",
       "    <tr>\n",
       "      <th>2</th>\n",
       "      <td>20170910</td>\n",
       "      <td>19</td>\n",
       "      <td>780</td>\n",
       "      <td>0.378285</td>\n",
       "    </tr>\n",
       "    <tr>\n",
       "      <th>3</th>\n",
       "      <td>20170910</td>\n",
       "      <td>19</td>\n",
       "      <td>780</td>\n",
       "      <td>0.378285</td>\n",
       "    </tr>\n",
       "    <tr>\n",
       "      <th>4</th>\n",
       "      <td>20170910</td>\n",
       "      <td>19</td>\n",
       "      <td>780</td>\n",
       "      <td>0.378285</td>\n",
       "    </tr>\n",
       "  </tbody>\n",
       "</table>\n",
       "</div>"
      ],
      "text/plain": [
       "  event_day  event_hour  raw_value  normed_value\n",
       "0  20170910          19        780      0.378285\n",
       "1  20170910          19        780      0.378285\n",
       "2  20170910          19        780      0.378285\n",
       "3  20170910          19        780      0.378285\n",
       "4  20170910          19        780      0.378285"
      ]
     },
     "execution_count": 78,
     "metadata": {},
     "output_type": "execute_result"
    }
   ],
   "source": [
    "df[:5]"
   ]
  },
  {
   "cell_type": "markdown",
   "metadata": {},
   "source": [
    "### quantiles"
   ]
  },
  {
   "cell_type": "code",
   "execution_count": 79,
   "metadata": {
    "collapsed": false
   },
   "outputs": [
    {
     "data": {
      "text/html": [
       "<div>\n",
       "<style>\n",
       "    .dataframe thead tr:only-child th {\n",
       "        text-align: right;\n",
       "    }\n",
       "\n",
       "    .dataframe thead th {\n",
       "        text-align: left;\n",
       "    }\n",
       "\n",
       "    .dataframe tbody tr th {\n",
       "        vertical-align: top;\n",
       "    }\n",
       "</style>\n",
       "<table border=\"1\" class=\"dataframe\">\n",
       "  <thead>\n",
       "    <tr style=\"text-align: right;\">\n",
       "      <th></th>\n",
       "      <th>event_hour</th>\n",
       "      <th>raw_value</th>\n",
       "      <th>normed_value</th>\n",
       "    </tr>\n",
       "  </thead>\n",
       "  <tbody>\n",
       "    <tr>\n",
       "      <th>0.0</th>\n",
       "      <td>0.0</td>\n",
       "      <td>17.0</td>\n",
       "      <td>0.000000</td>\n",
       "    </tr>\n",
       "    <tr>\n",
       "      <th>0.1</th>\n",
       "      <td>2.0</td>\n",
       "      <td>62.0</td>\n",
       "      <td>0.022310</td>\n",
       "    </tr>\n",
       "    <tr>\n",
       "      <th>0.2</th>\n",
       "      <td>5.0</td>\n",
       "      <td>110.0</td>\n",
       "      <td>0.046108</td>\n",
       "    </tr>\n",
       "    <tr>\n",
       "      <th>0.3</th>\n",
       "      <td>8.0</td>\n",
       "      <td>165.0</td>\n",
       "      <td>0.073376</td>\n",
       "    </tr>\n",
       "    <tr>\n",
       "      <th>0.4</th>\n",
       "      <td>11.0</td>\n",
       "      <td>219.0</td>\n",
       "      <td>0.100149</td>\n",
       "    </tr>\n",
       "    <tr>\n",
       "      <th>0.5</th>\n",
       "      <td>13.0</td>\n",
       "      <td>255.0</td>\n",
       "      <td>0.117997</td>\n",
       "    </tr>\n",
       "    <tr>\n",
       "      <th>0.6</th>\n",
       "      <td>15.0</td>\n",
       "      <td>280.0</td>\n",
       "      <td>0.130392</td>\n",
       "    </tr>\n",
       "    <tr>\n",
       "      <th>0.7</th>\n",
       "      <td>17.0</td>\n",
       "      <td>377.0</td>\n",
       "      <td>0.178483</td>\n",
       "    </tr>\n",
       "    <tr>\n",
       "      <th>0.8</th>\n",
       "      <td>19.0</td>\n",
       "      <td>550.0</td>\n",
       "      <td>0.264254</td>\n",
       "    </tr>\n",
       "    <tr>\n",
       "      <th>0.9</th>\n",
       "      <td>21.0</td>\n",
       "      <td>845.0</td>\n",
       "      <td>0.410511</td>\n",
       "    </tr>\n",
       "    <tr>\n",
       "      <th>1.0</th>\n",
       "      <td>23.0</td>\n",
       "      <td>2028.0</td>\n",
       "      <td>0.997025</td>\n",
       "    </tr>\n",
       "  </tbody>\n",
       "</table>\n",
       "</div>"
      ],
      "text/plain": [
       "     event_hour  raw_value  normed_value\n",
       "0.0         0.0       17.0      0.000000\n",
       "0.1         2.0       62.0      0.022310\n",
       "0.2         5.0      110.0      0.046108\n",
       "0.3         8.0      165.0      0.073376\n",
       "0.4        11.0      219.0      0.100149\n",
       "0.5        13.0      255.0      0.117997\n",
       "0.6        15.0      280.0      0.130392\n",
       "0.7        17.0      377.0      0.178483\n",
       "0.8        19.0      550.0      0.264254\n",
       "0.9        21.0      845.0      0.410511\n",
       "1.0        23.0     2028.0      0.997025"
      ]
     },
     "execution_count": 79,
     "metadata": {},
     "output_type": "execute_result"
    }
   ],
   "source": [
    "df.quantile(np.linspace(0.0, 1.0, num=11))"
   ]
  },
  {
   "cell_type": "markdown",
   "metadata": {},
   "source": [
    "### plot all data"
   ]
  },
  {
   "cell_type": "code",
   "execution_count": 80,
   "metadata": {
    "collapsed": false
   },
   "outputs": [
    {
     "data": {
      "image/png": "[encoded data removed]",
      "text/plain": [
       "<matplotlib.figure.Figure at 0x7fc88623a198>"
      ]
     },
     "metadata": {},
     "output_type": "display_data"
    }
   ],
   "source": [
    "plot_all(df)"
   ]
  },
  {
   "cell_type": "markdown",
   "metadata": {},
   "source": [
    "### plot one hour of a given day"
   ]
  },
  {
   "cell_type": "code",
   "execution_count": 81,
   "metadata": {
    "collapsed": false
   },
   "outputs": [
    {
     "data": {
      "image/png": "[encoded data removed]",
      "text/plain": [
       "<matplotlib.figure.Figure at 0x7fc8850fcfd0>"
      ]
     },
     "metadata": {},
     "output_type": "display_data"
    }
   ],
   "source": [
    "plot_one_hour(df)"
   ]
  },
  {
   "cell_type": "markdown",
   "metadata": {},
   "source": [
    "### one plot per day, overlayed"
   ]
  },
  {
   "cell_type": "code",
   "execution_count": 82,
   "metadata": {
    "collapsed": false
   },
   "outputs": [
    {
     "data": {
      "image/png": "[encoded data removed]",
      "text/plain": [
       "<matplotlib.figure.Figure at 0x7fc88607df28>"
      ]
     },
     "metadata": {},
     "output_type": "display_data"
    }
   ],
   "source": [
    "plot_one_per_day_overlay(df)"
   ]
  },
  {
   "cell_type": "markdown",
   "metadata": {},
   "source": [
    "## distribution of time values"
   ]
  },
  {
   "cell_type": "code",
   "execution_count": 92,
   "metadata": {
    "collapsed": true
   },
   "outputs": [],
   "source": [
    "sql_prepare = ','.join([create_base_percentile(table, 'first_on_at'),\n",
    "                        create_time_convert(),\n",
    "                        create_stats()])"
   ]
  },
  {
   "cell_type": "code",
   "execution_count": null,
   "metadata": {
    "collapsed": false
   },
   "outputs": [],
   "source": [
    "df = pd.read_gbq(create_normed(sql_prepare),\n",
    "                 dialect = 'standard',\n",
    "                 project_id = gcp_project,\n",
    "                 private_key = gcp_key)"
   ]
  },
  {
   "cell_type": "code",
   "execution_count": 94,
   "metadata": {
    "collapsed": false
   },
   "outputs": [
    {
     "data": {
      "text/html": [
       "<div>\n",
       "<style>\n",
       "    .dataframe thead tr:only-child th {\n",
       "        text-align: right;\n",
       "    }\n",
       "\n",
       "    .dataframe thead th {\n",
       "        text-align: left;\n",
       "    }\n",
       "\n",
       "    .dataframe tbody tr th {\n",
       "        vertical-align: top;\n",
       "    }\n",
       "</style>\n",
       "<table border=\"1\" class=\"dataframe\">\n",
       "  <thead>\n",
       "    <tr style=\"text-align: right;\">\n",
       "      <th></th>\n",
       "      <th>event_day</th>\n",
       "      <th>event_hour</th>\n",
       "      <th>raw_value</th>\n",
       "      <th>normed_value</th>\n",
       "    </tr>\n",
       "  </thead>\n",
       "  <tbody>\n",
       "    <tr>\n",
       "      <th>0</th>\n",
       "      <td>20170909</td>\n",
       "      <td>9</td>\n",
       "      <td>1504261042</td>\n",
       "      <td>0.796229</td>\n",
       "    </tr>\n",
       "    <tr>\n",
       "      <th>1</th>\n",
       "      <td>20170909</td>\n",
       "      <td>9</td>\n",
       "      <td>1504261042</td>\n",
       "      <td>0.796229</td>\n",
       "    </tr>\n",
       "    <tr>\n",
       "      <th>2</th>\n",
       "      <td>20170909</td>\n",
       "      <td>12</td>\n",
       "      <td>1504261042</td>\n",
       "      <td>0.796229</td>\n",
       "    </tr>\n",
       "    <tr>\n",
       "      <th>3</th>\n",
       "      <td>20170909</td>\n",
       "      <td>9</td>\n",
       "      <td>1504261042</td>\n",
       "      <td>0.796229</td>\n",
       "    </tr>\n",
       "    <tr>\n",
       "      <th>4</th>\n",
       "      <td>20170909</td>\n",
       "      <td>13</td>\n",
       "      <td>1504261042</td>\n",
       "      <td>0.796229</td>\n",
       "    </tr>\n",
       "  </tbody>\n",
       "</table>\n",
       "</div>"
      ],
      "text/plain": [
       "  event_day  event_hour   raw_value  normed_value\n",
       "0  20170909           9  1504261042      0.796229\n",
       "1  20170909           9  1504261042      0.796229\n",
       "2  20170909          12  1504261042      0.796229\n",
       "3  20170909           9  1504261042      0.796229\n",
       "4  20170909          13  1504261042      0.796229"
      ]
     },
     "execution_count": 94,
     "metadata": {},
     "output_type": "execute_result"
    }
   ],
   "source": [
    "df[:5]"
   ]
  },
  {
   "cell_type": "markdown",
   "metadata": {},
   "source": [
    "### quantiles"
   ]
  },
  {
   "cell_type": "code",
   "execution_count": 95,
   "metadata": {
    "collapsed": false
   },
   "outputs": [
    {
     "data": {
      "text/html": [
       "<div>\n",
       "<style>\n",
       "    .dataframe thead tr:only-child th {\n",
       "        text-align: right;\n",
       "    }\n",
       "\n",
       "    .dataframe thead th {\n",
       "        text-align: left;\n",
       "    }\n",
       "\n",
       "    .dataframe tbody tr th {\n",
       "        vertical-align: top;\n",
       "    }\n",
       "</style>\n",
       "<table border=\"1\" class=\"dataframe\">\n",
       "  <thead>\n",
       "    <tr style=\"text-align: right;\">\n",
       "      <th></th>\n",
       "      <th>event_hour</th>\n",
       "      <th>raw_value</th>\n",
       "      <th>normed_value</th>\n",
       "    </tr>\n",
       "  </thead>\n",
       "  <tbody>\n",
       "    <tr>\n",
       "      <th>0.0</th>\n",
       "      <td>0.0</td>\n",
       "      <td>1.501031e+09</td>\n",
       "      <td>0.000000</td>\n",
       "    </tr>\n",
       "    <tr>\n",
       "      <th>0.1</th>\n",
       "      <td>2.0</td>\n",
       "      <td>1.501854e+09</td>\n",
       "      <td>0.202717</td>\n",
       "    </tr>\n",
       "    <tr>\n",
       "      <th>0.2</th>\n",
       "      <td>5.0</td>\n",
       "      <td>1.502893e+09</td>\n",
       "      <td>0.458880</td>\n",
       "    </tr>\n",
       "    <tr>\n",
       "      <th>0.3</th>\n",
       "      <td>8.0</td>\n",
       "      <td>1.504024e+09</td>\n",
       "      <td>0.737680</td>\n",
       "    </tr>\n",
       "    <tr>\n",
       "      <th>0.4</th>\n",
       "      <td>11.0</td>\n",
       "      <td>1.504269e+09</td>\n",
       "      <td>0.798154</td>\n",
       "    </tr>\n",
       "    <tr>\n",
       "      <th>0.5</th>\n",
       "      <td>13.0</td>\n",
       "      <td>1.504355e+09</td>\n",
       "      <td>0.819431</td>\n",
       "    </tr>\n",
       "    <tr>\n",
       "      <th>0.6</th>\n",
       "      <td>15.0</td>\n",
       "      <td>1.504456e+09</td>\n",
       "      <td>0.844373</td>\n",
       "    </tr>\n",
       "    <tr>\n",
       "      <th>0.7</th>\n",
       "      <td>17.0</td>\n",
       "      <td>1.504547e+09</td>\n",
       "      <td>0.866613</td>\n",
       "    </tr>\n",
       "    <tr>\n",
       "      <th>0.8</th>\n",
       "      <td>19.0</td>\n",
       "      <td>1.504678e+09</td>\n",
       "      <td>0.899107</td>\n",
       "    </tr>\n",
       "    <tr>\n",
       "      <th>0.9</th>\n",
       "      <td>21.0</td>\n",
       "      <td>1.504822e+09</td>\n",
       "      <td>0.934556</td>\n",
       "    </tr>\n",
       "    <tr>\n",
       "      <th>1.0</th>\n",
       "      <td>23.0</td>\n",
       "      <td>1.505088e+09</td>\n",
       "      <td>1.000000</td>\n",
       "    </tr>\n",
       "  </tbody>\n",
       "</table>\n",
       "</div>"
      ],
      "text/plain": [
       "     event_hour     raw_value  normed_value\n",
       "0.0         0.0  1.501031e+09      0.000000\n",
       "0.1         2.0  1.501854e+09      0.202717\n",
       "0.2         5.0  1.502893e+09      0.458880\n",
       "0.3         8.0  1.504024e+09      0.737680\n",
       "0.4        11.0  1.504269e+09      0.798154\n",
       "0.5        13.0  1.504355e+09      0.819431\n",
       "0.6        15.0  1.504456e+09      0.844373\n",
       "0.7        17.0  1.504547e+09      0.866613\n",
       "0.8        19.0  1.504678e+09      0.899107\n",
       "0.9        21.0  1.504822e+09      0.934556\n",
       "1.0        23.0  1.505088e+09      1.000000"
      ]
     },
     "execution_count": 95,
     "metadata": {},
     "output_type": "execute_result"
    }
   ],
   "source": [
    "df.quantile(np.linspace(0.0, 1.0, num=11))"
   ]
  },
  {
   "cell_type": "markdown",
   "metadata": {},
   "source": [
    "### plot all data"
   ]
  },
  {
   "cell_type": "code",
   "execution_count": 96,
   "metadata": {
    "collapsed": false
   },
   "outputs": [
    {
     "data": {
      "image/png": "[encoded data removed]",
      "text/plain": [
       "<matplotlib.figure.Figure at 0x7fc88544ecf8>"
      ]
     },
     "metadata": {},
     "output_type": "display_data"
    }
   ],
   "source": [
    "plot_all(df)"
   ]
  },
  {
   "cell_type": "markdown",
   "metadata": {},
   "source": [
    "### plot one hour of a given day"
   ]
  },
  {
   "cell_type": "code",
   "execution_count": 97,
   "metadata": {
    "collapsed": false
   },
   "outputs": [
    {
     "data": {
      "image/png": "[encoded data removed]",
      "text/plain": [
       "<matplotlib.figure.Figure at 0x7fc8c828c978>"
      ]
     },
     "metadata": {},
     "output_type": "display_data"
    }
   ],
   "source": [
    "plot_one_hour(df)"
   ]
  },
  {
   "cell_type": "markdown",
   "metadata": {},
   "source": [
    "### one plot per day, overlayed"
   ]
  },
  {
   "cell_type": "code",
   "execution_count": 98,
   "metadata": {
    "collapsed": false
   },
   "outputs": [
    {
     "data": {
      "image/png": "[encoded data removed]",
      "text/plain": [
       "<matplotlib.figure.Figure at 0x7fc887189c88>"
      ]
     },
     "metadata": {},
     "output_type": "display_data"
    }
   ],
   "source": [
    "plot_one_per_day_overlay(df)"
   ]
  },
  {
   "cell_type": "markdown",
   "metadata": {},
   "source": [
    "## distribution of bool values"
   ]
  },
  {
   "cell_type": "code",
   "execution_count": 110,
   "metadata": {
    "collapsed": true
   },
   "outputs": [],
   "source": [
    "sql_prepare = ','.join([create_base(table, 'generating'),\n",
    "                        create_bool_convert(),\n",
    "                        create_stats()])"
   ]
  },
  {
   "cell_type": "code",
   "execution_count": null,
   "metadata": {
    "collapsed": false
   },
   "outputs": [],
   "source": [
    "df = pd.read_gbq(create_normed(sql_prepare),\n",
    "                 dialect = 'standard',\n",
    "                 project_id = gcp_project,\n",
    "                 private_key = gcp_key)"
   ]
  },
  {
   "cell_type": "code",
   "execution_count": 112,
   "metadata": {
    "collapsed": false
   },
   "outputs": [
    {
     "data": {
      "text/html": [
       "<div>\n",
       "<style>\n",
       "    .dataframe thead tr:only-child th {\n",
       "        text-align: right;\n",
       "    }\n",
       "\n",
       "    .dataframe thead th {\n",
       "        text-align: left;\n",
       "    }\n",
       "\n",
       "    .dataframe tbody tr th {\n",
       "        vertical-align: top;\n",
       "    }\n",
       "</style>\n",
       "<table border=\"1\" class=\"dataframe\">\n",
       "  <thead>\n",
       "    <tr style=\"text-align: right;\">\n",
       "      <th></th>\n",
       "      <th>event_day</th>\n",
       "      <th>event_hour</th>\n",
       "      <th>raw_value</th>\n",
       "      <th>normed_value</th>\n",
       "    </tr>\n",
       "  </thead>\n",
       "  <tbody>\n",
       "    <tr>\n",
       "      <th>0</th>\n",
       "      <td>20170904</td>\n",
       "      <td>17</td>\n",
       "      <td>0.25</td>\n",
       "      <td>0.0</td>\n",
       "    </tr>\n",
       "    <tr>\n",
       "      <th>1</th>\n",
       "      <td>20170904</td>\n",
       "      <td>17</td>\n",
       "      <td>0.25</td>\n",
       "      <td>0.0</td>\n",
       "    </tr>\n",
       "    <tr>\n",
       "      <th>2</th>\n",
       "      <td>20170904</td>\n",
       "      <td>17</td>\n",
       "      <td>0.25</td>\n",
       "      <td>0.0</td>\n",
       "    </tr>\n",
       "    <tr>\n",
       "      <th>3</th>\n",
       "      <td>20170904</td>\n",
       "      <td>17</td>\n",
       "      <td>0.25</td>\n",
       "      <td>0.0</td>\n",
       "    </tr>\n",
       "    <tr>\n",
       "      <th>4</th>\n",
       "      <td>20170904</td>\n",
       "      <td>17</td>\n",
       "      <td>0.25</td>\n",
       "      <td>0.0</td>\n",
       "    </tr>\n",
       "  </tbody>\n",
       "</table>\n",
       "</div>"
      ],
      "text/plain": [
       "  event_day  event_hour  raw_value  normed_value\n",
       "0  20170904          17       0.25           0.0\n",
       "1  20170904          17       0.25           0.0\n",
       "2  20170904          17       0.25           0.0\n",
       "3  20170904          17       0.25           0.0\n",
       "4  20170904          17       0.25           0.0"
      ]
     },
     "execution_count": 112,
     "metadata": {},
     "output_type": "execute_result"
    }
   ],
   "source": [
    "df[:5]"
   ]
  },
  {
   "cell_type": "markdown",
   "metadata": {},
   "source": [
    "### quantiles"
   ]
  },
  {
   "cell_type": "code",
   "execution_count": 113,
   "metadata": {
    "collapsed": false
   },
   "outputs": [
    {
     "data": {
      "text/html": [
       "<div>\n",
       "<style>\n",
       "    .dataframe thead tr:only-child th {\n",
       "        text-align: right;\n",
       "    }\n",
       "\n",
       "    .dataframe thead th {\n",
       "        text-align: left;\n",
       "    }\n",
       "\n",
       "    .dataframe tbody tr th {\n",
       "        vertical-align: top;\n",
       "    }\n",
       "</style>\n",
       "<table border=\"1\" class=\"dataframe\">\n",
       "  <thead>\n",
       "    <tr style=\"text-align: right;\">\n",
       "      <th></th>\n",
       "      <th>event_hour</th>\n",
       "      <th>raw_value</th>\n",
       "      <th>normed_value</th>\n",
       "    </tr>\n",
       "  </thead>\n",
       "  <tbody>\n",
       "    <tr>\n",
       "      <th>0.0</th>\n",
       "      <td>0.0</td>\n",
       "      <td>0.25</td>\n",
       "      <td>0.0</td>\n",
       "    </tr>\n",
       "    <tr>\n",
       "      <th>0.1</th>\n",
       "      <td>2.0</td>\n",
       "      <td>0.25</td>\n",
       "      <td>0.0</td>\n",
       "    </tr>\n",
       "    <tr>\n",
       "      <th>0.2</th>\n",
       "      <td>5.0</td>\n",
       "      <td>0.25</td>\n",
       "      <td>0.0</td>\n",
       "    </tr>\n",
       "    <tr>\n",
       "      <th>0.3</th>\n",
       "      <td>7.0</td>\n",
       "      <td>0.25</td>\n",
       "      <td>0.0</td>\n",
       "    </tr>\n",
       "    <tr>\n",
       "      <th>0.4</th>\n",
       "      <td>11.0</td>\n",
       "      <td>0.25</td>\n",
       "      <td>0.0</td>\n",
       "    </tr>\n",
       "    <tr>\n",
       "      <th>0.5</th>\n",
       "      <td>13.0</td>\n",
       "      <td>0.25</td>\n",
       "      <td>0.0</td>\n",
       "    </tr>\n",
       "    <tr>\n",
       "      <th>0.6</th>\n",
       "      <td>15.0</td>\n",
       "      <td>0.25</td>\n",
       "      <td>0.0</td>\n",
       "    </tr>\n",
       "    <tr>\n",
       "      <th>0.7</th>\n",
       "      <td>17.0</td>\n",
       "      <td>0.25</td>\n",
       "      <td>0.0</td>\n",
       "    </tr>\n",
       "    <tr>\n",
       "      <th>0.8</th>\n",
       "      <td>19.0</td>\n",
       "      <td>0.25</td>\n",
       "      <td>0.0</td>\n",
       "    </tr>\n",
       "    <tr>\n",
       "      <th>0.9</th>\n",
       "      <td>21.0</td>\n",
       "      <td>0.25</td>\n",
       "      <td>0.0</td>\n",
       "    </tr>\n",
       "    <tr>\n",
       "      <th>1.0</th>\n",
       "      <td>23.0</td>\n",
       "      <td>0.75</td>\n",
       "      <td>1.0</td>\n",
       "    </tr>\n",
       "  </tbody>\n",
       "</table>\n",
       "</div>"
      ],
      "text/plain": [
       "     event_hour  raw_value  normed_value\n",
       "0.0         0.0       0.25           0.0\n",
       "0.1         2.0       0.25           0.0\n",
       "0.2         5.0       0.25           0.0\n",
       "0.3         7.0       0.25           0.0\n",
       "0.4        11.0       0.25           0.0\n",
       "0.5        13.0       0.25           0.0\n",
       "0.6        15.0       0.25           0.0\n",
       "0.7        17.0       0.25           0.0\n",
       "0.8        19.0       0.25           0.0\n",
       "0.9        21.0       0.25           0.0\n",
       "1.0        23.0       0.75           1.0"
      ]
     },
     "execution_count": 113,
     "metadata": {},
     "output_type": "execute_result"
    }
   ],
   "source": [
    "df.quantile(np.linspace(0.0, 1.0, num=11))"
   ]
  },
  {
   "cell_type": "markdown",
   "metadata": {},
   "source": [
    "### plot all data"
   ]
  },
  {
   "cell_type": "code",
   "execution_count": 114,
   "metadata": {
    "collapsed": false
   },
   "outputs": [
    {
     "data": {
      "image/png": "[encoded data removed]",
      "text/plain": [
       "<matplotlib.figure.Figure at 0x7fc87fd9aa58>"
      ]
     },
     "metadata": {},
     "output_type": "display_data"
    }
   ],
   "source": [
    "plot_all(df)"
   ]
  },
  {
   "cell_type": "markdown",
   "metadata": {},
   "source": [
    "### plot one hour of a given day"
   ]
  },
  {
   "cell_type": "code",
   "execution_count": 115,
   "metadata": {
    "collapsed": false
   },
   "outputs": [
    {
     "data": {
      "image/png": "[encoded data removed]",
      "text/plain": [
       "<matplotlib.figure.Figure at 0x7fc8865455f8>"
      ]
     },
     "metadata": {},
     "output_type": "display_data"
    }
   ],
   "source": [
    "plot_one_hour(df)"
   ]
  },
  {
   "cell_type": "markdown",
   "metadata": {},
   "source": [
    "### one plot per day, overlayed"
   ]
  },
  {
   "cell_type": "code",
   "execution_count": 116,
   "metadata": {
    "collapsed": false
   },
   "outputs": [
    {
     "data": {
      "image/png": "[encoded data removed]",
      "text/plain": [
       "<matplotlib.figure.Figure at 0x7fc88455a470>"
      ]
     },
     "metadata": {},
     "output_type": "display_data"
    }
   ],
   "source": [
    "plot_one_per_day_overlay(df)"
   ]
  },
  {
   "cell_type": "markdown",
   "metadata": {},
   "source": [
    "## distribution of \"unique\" values"
   ]
  },
  {
   "cell_type": "code",
   "execution_count": null,
   "metadata": {
    "collapsed": false
   },
   "outputs": [],
   "source": [
    "sql_prepare = ','.join([create_base(table, 'mill_signature'),\n",
    "                        create_string_convert(-8),\n",
    "                        create_stats()])\n",
    "\n",
    "df = pd.read_gbq(create_normed(sql_prepare),\n",
    "                 dialect = 'standard',\n",
    "                 project_id = gcp_project,\n",
    "                 private_key = gcp_key)"
   ]
  },
  {
   "cell_type": "markdown",
   "metadata": {},
   "source": [
    "### quantiles"
   ]
  },
  {
   "cell_type": "code",
   "execution_count": 118,
   "metadata": {
    "collapsed": false
   },
   "outputs": [
    {
     "data": {
      "text/html": [
       "<div>\n",
       "<style>\n",
       "    .dataframe thead tr:only-child th {\n",
       "        text-align: right;\n",
       "    }\n",
       "\n",
       "    .dataframe thead th {\n",
       "        text-align: left;\n",
       "    }\n",
       "\n",
       "    .dataframe tbody tr th {\n",
       "        vertical-align: top;\n",
       "    }\n",
       "</style>\n",
       "<table border=\"1\" class=\"dataframe\">\n",
       "  <thead>\n",
       "    <tr style=\"text-align: right;\">\n",
       "      <th></th>\n",
       "      <th>event_hour</th>\n",
       "      <th>raw_value</th>\n",
       "      <th>normed_value</th>\n",
       "    </tr>\n",
       "  </thead>\n",
       "  <tbody>\n",
       "    <tr>\n",
       "      <th>0.0</th>\n",
       "      <td>0.0</td>\n",
       "      <td>2.875702e+13</td>\n",
       "      <td>0.000000</td>\n",
       "    </tr>\n",
       "    <tr>\n",
       "      <th>0.1</th>\n",
       "      <td>2.0</td>\n",
       "      <td>1.196453e+17</td>\n",
       "      <td>0.103755</td>\n",
       "    </tr>\n",
       "    <tr>\n",
       "      <th>0.2</th>\n",
       "      <td>5.0</td>\n",
       "      <td>2.351351e+17</td>\n",
       "      <td>0.203931</td>\n",
       "    </tr>\n",
       "    <tr>\n",
       "      <th>0.3</th>\n",
       "      <td>7.0</td>\n",
       "      <td>3.503671e+17</td>\n",
       "      <td>0.303883</td>\n",
       "    </tr>\n",
       "    <tr>\n",
       "      <th>0.4</th>\n",
       "      <td>11.0</td>\n",
       "      <td>4.671947e+17</td>\n",
       "      <td>0.405220</td>\n",
       "    </tr>\n",
       "    <tr>\n",
       "      <th>0.5</th>\n",
       "      <td>13.0</td>\n",
       "      <td>5.901342e+17</td>\n",
       "      <td>0.511857</td>\n",
       "    </tr>\n",
       "    <tr>\n",
       "      <th>0.6</th>\n",
       "      <td>15.0</td>\n",
       "      <td>7.034651e+17</td>\n",
       "      <td>0.610161</td>\n",
       "    </tr>\n",
       "    <tr>\n",
       "      <th>0.7</th>\n",
       "      <td>17.0</td>\n",
       "      <td>8.163105e+17</td>\n",
       "      <td>0.708043</td>\n",
       "    </tr>\n",
       "    <tr>\n",
       "      <th>0.8</th>\n",
       "      <td>19.0</td>\n",
       "      <td>9.287558e+17</td>\n",
       "      <td>0.805578</td>\n",
       "    </tr>\n",
       "    <tr>\n",
       "      <th>0.9</th>\n",
       "      <td>21.0</td>\n",
       "      <td>1.044619e+18</td>\n",
       "      <td>0.906077</td>\n",
       "    </tr>\n",
       "    <tr>\n",
       "      <th>1.0</th>\n",
       "      <td>23.0</td>\n",
       "      <td>1.152900e+18</td>\n",
       "      <td>1.000000</td>\n",
       "    </tr>\n",
       "  </tbody>\n",
       "</table>\n",
       "</div>"
      ],
      "text/plain": [
       "     event_hour     raw_value  normed_value\n",
       "0.0         0.0  2.875702e+13      0.000000\n",
       "0.1         2.0  1.196453e+17      0.103755\n",
       "0.2         5.0  2.351351e+17      0.203931\n",
       "0.3         7.0  3.503671e+17      0.303883\n",
       "0.4        11.0  4.671947e+17      0.405220\n",
       "0.5        13.0  5.901342e+17      0.511857\n",
       "0.6        15.0  7.034651e+17      0.610161\n",
       "0.7        17.0  8.163105e+17      0.708043\n",
       "0.8        19.0  9.287558e+17      0.805578\n",
       "0.9        21.0  1.044619e+18      0.906077\n",
       "1.0        23.0  1.152900e+18      1.000000"
      ]
     },
     "execution_count": 118,
     "metadata": {},
     "output_type": "execute_result"
    }
   ],
   "source": [
    "df.quantile(np.linspace(0.0, 1.0, num=11))"
   ]
  },
  {
   "cell_type": "markdown",
   "metadata": {},
   "source": [
    "### plot all data"
   ]
  },
  {
   "cell_type": "code",
   "execution_count": 119,
   "metadata": {
    "collapsed": false
   },
   "outputs": [
    {
     "data": {
      "image/png": "[encoded data removed]",
      "text/plain": [
       "<matplotlib.figure.Figure at 0x7fc88585ec88>"
      ]
     },
     "metadata": {},
     "output_type": "display_data"
    }
   ],
   "source": [
    "plot_all(df)"
   ]
  },
  {
   "cell_type": "markdown",
   "metadata": {},
   "source": [
    "### plot one hour of a given day"
   ]
  },
  {
   "cell_type": "code",
   "execution_count": 120,
   "metadata": {
    "collapsed": false
   },
   "outputs": [
    {
     "data": {
      "image/png": "[encoded data removed]",
      "text/plain": [
       "<matplotlib.figure.Figure at 0x7fc883989828>"
      ]
     },
     "metadata": {},
     "output_type": "display_data"
    }
   ],
   "source": [
    "plot_one_hour(df)"
   ]
  },
  {
   "cell_type": "markdown",
   "metadata": {},
   "source": [
    "### one plot per day, overlayed"
   ]
  },
  {
   "cell_type": "code",
   "execution_count": 121,
   "metadata": {
    "collapsed": false
   },
   "outputs": [
    {
     "data": {
      "image/png": "[encoded data removed]",
      "text/plain": [
       "<matplotlib.figure.Figure at 0x7fc87d2ca6a0>"
      ]
     },
     "metadata": {},
     "output_type": "display_data"
    }
   ],
   "source": [
    "plot_one_per_day_overlay(df)"
   ]
  },
  {
   "cell_type": "markdown",
   "metadata": {},
   "source": [
    "## distribution of categorial values"
   ]
  },
  {
   "cell_type": "code",
   "execution_count": null,
   "metadata": {
    "collapsed": false
   },
   "outputs": [],
   "source": [
    "sql_prepare = ','.join([create_base(table, 'country'),\n",
    "                        create_string_convert(),\n",
    "                        create_stats()])\n",
    "\n",
    "df = pd.read_gbq(create_normed(sql_prepare),\n",
    "                 dialect = 'standard',\n",
    "                 project_id = gcp_project,\n",
    "                 private_key = gcp_key)"
   ]
  },
  {
   "cell_type": "markdown",
   "metadata": {},
   "source": [
    "### quantiles"
   ]
  },
  {
   "cell_type": "code",
   "execution_count": 123,
   "metadata": {
    "collapsed": false
   },
   "outputs": [
    {
     "data": {
      "text/html": [
       "<div>\n",
       "<style>\n",
       "    .dataframe thead tr:only-child th {\n",
       "        text-align: right;\n",
       "    }\n",
       "\n",
       "    .dataframe thead th {\n",
       "        text-align: left;\n",
       "    }\n",
       "\n",
       "    .dataframe tbody tr th {\n",
       "        vertical-align: top;\n",
       "    }\n",
       "</style>\n",
       "<table border=\"1\" class=\"dataframe\">\n",
       "  <thead>\n",
       "    <tr style=\"text-align: right;\">\n",
       "      <th></th>\n",
       "      <th>event_hour</th>\n",
       "      <th>raw_value</th>\n",
       "      <th>normed_value</th>\n",
       "    </tr>\n",
       "  </thead>\n",
       "  <tbody>\n",
       "    <tr>\n",
       "      <th>0.00</th>\n",
       "      <td>0.0</td>\n",
       "      <td>2.142066e+16</td>\n",
       "      <td>0.000000</td>\n",
       "    </tr>\n",
       "    <tr>\n",
       "      <th>0.05</th>\n",
       "      <td>1.0</td>\n",
       "      <td>2.626681e+17</td>\n",
       "      <td>0.215406</td>\n",
       "    </tr>\n",
       "    <tr>\n",
       "      <th>0.10</th>\n",
       "      <td>2.0</td>\n",
       "      <td>2.817049e+17</td>\n",
       "      <td>0.232404</td>\n",
       "    </tr>\n",
       "    <tr>\n",
       "      <th>0.15</th>\n",
       "      <td>3.0</td>\n",
       "      <td>2.817049e+17</td>\n",
       "      <td>0.232404</td>\n",
       "    </tr>\n",
       "    <tr>\n",
       "      <th>0.20</th>\n",
       "      <td>5.0</td>\n",
       "      <td>2.817049e+17</td>\n",
       "      <td>0.232404</td>\n",
       "    </tr>\n",
       "    <tr>\n",
       "      <th>0.25</th>\n",
       "      <td>6.0</td>\n",
       "      <td>2.817049e+17</td>\n",
       "      <td>0.232404</td>\n",
       "    </tr>\n",
       "    <tr>\n",
       "      <th>0.30</th>\n",
       "      <td>7.0</td>\n",
       "      <td>2.817049e+17</td>\n",
       "      <td>0.232404</td>\n",
       "    </tr>\n",
       "    <tr>\n",
       "      <th>0.35</th>\n",
       "      <td>9.0</td>\n",
       "      <td>2.817049e+17</td>\n",
       "      <td>0.232404</td>\n",
       "    </tr>\n",
       "    <tr>\n",
       "      <th>0.40</th>\n",
       "      <td>11.0</td>\n",
       "      <td>2.817049e+17</td>\n",
       "      <td>0.232404</td>\n",
       "    </tr>\n",
       "    <tr>\n",
       "      <th>0.45</th>\n",
       "      <td>12.0</td>\n",
       "      <td>2.817049e+17</td>\n",
       "      <td>0.232404</td>\n",
       "    </tr>\n",
       "    <tr>\n",
       "      <th>0.50</th>\n",
       "      <td>13.0</td>\n",
       "      <td>2.817049e+17</td>\n",
       "      <td>0.232404</td>\n",
       "    </tr>\n",
       "    <tr>\n",
       "      <th>0.55</th>\n",
       "      <td>14.0</td>\n",
       "      <td>2.817049e+17</td>\n",
       "      <td>0.232404</td>\n",
       "    </tr>\n",
       "    <tr>\n",
       "      <th>0.60</th>\n",
       "      <td>15.0</td>\n",
       "      <td>5.273256e+17</td>\n",
       "      <td>0.451715</td>\n",
       "    </tr>\n",
       "    <tr>\n",
       "      <th>0.65</th>\n",
       "      <td>16.0</td>\n",
       "      <td>5.273256e+17</td>\n",
       "      <td>0.451715</td>\n",
       "    </tr>\n",
       "    <tr>\n",
       "      <th>0.70</th>\n",
       "      <td>17.0</td>\n",
       "      <td>5.485178e+17</td>\n",
       "      <td>0.470638</td>\n",
       "    </tr>\n",
       "    <tr>\n",
       "      <th>0.75</th>\n",
       "      <td>18.0</td>\n",
       "      <td>9.970888e+17</td>\n",
       "      <td>0.871160</td>\n",
       "    </tr>\n",
       "    <tr>\n",
       "      <th>0.80</th>\n",
       "      <td>19.0</td>\n",
       "      <td>1.062289e+18</td>\n",
       "      <td>0.929377</td>\n",
       "    </tr>\n",
       "    <tr>\n",
       "      <th>0.85</th>\n",
       "      <td>20.0</td>\n",
       "      <td>1.062289e+18</td>\n",
       "      <td>0.929377</td>\n",
       "    </tr>\n",
       "    <tr>\n",
       "      <th>0.90</th>\n",
       "      <td>21.0</td>\n",
       "      <td>1.062289e+18</td>\n",
       "      <td>0.929377</td>\n",
       "    </tr>\n",
       "    <tr>\n",
       "      <th>0.95</th>\n",
       "      <td>22.0</td>\n",
       "      <td>1.080930e+18</td>\n",
       "      <td>0.946021</td>\n",
       "    </tr>\n",
       "    <tr>\n",
       "      <th>1.00</th>\n",
       "      <td>23.0</td>\n",
       "      <td>1.141384e+18</td>\n",
       "      <td>1.000000</td>\n",
       "    </tr>\n",
       "  </tbody>\n",
       "</table>\n",
       "</div>"
      ],
      "text/plain": [
       "      event_hour     raw_value  normed_value\n",
       "0.00         0.0  2.142066e+16      0.000000\n",
       "0.05         1.0  2.626681e+17      0.215406\n",
       "0.10         2.0  2.817049e+17      0.232404\n",
       "0.15         3.0  2.817049e+17      0.232404\n",
       "0.20         5.0  2.817049e+17      0.232404\n",
       "0.25         6.0  2.817049e+17      0.232404\n",
       "0.30         7.0  2.817049e+17      0.232404\n",
       "0.35         9.0  2.817049e+17      0.232404\n",
       "0.40        11.0  2.817049e+17      0.232404\n",
       "0.45        12.0  2.817049e+17      0.232404\n",
       "0.50        13.0  2.817049e+17      0.232404\n",
       "0.55        14.0  2.817049e+17      0.232404\n",
       "0.60        15.0  5.273256e+17      0.451715\n",
       "0.65        16.0  5.273256e+17      0.451715\n",
       "0.70        17.0  5.485178e+17      0.470638\n",
       "0.75        18.0  9.970888e+17      0.871160\n",
       "0.80        19.0  1.062289e+18      0.929377\n",
       "0.85        20.0  1.062289e+18      0.929377\n",
       "0.90        21.0  1.062289e+18      0.929377\n",
       "0.95        22.0  1.080930e+18      0.946021\n",
       "1.00        23.0  1.141384e+18      1.000000"
      ]
     },
     "execution_count": 123,
     "metadata": {},
     "output_type": "execute_result"
    }
   ],
   "source": [
    "df.quantile(np.linspace(0.0, 1.0, num=21))"
   ]
  },
  {
   "cell_type": "markdown",
   "metadata": {},
   "source": [
    "### plot all data"
   ]
  },
  {
   "cell_type": "code",
   "execution_count": 124,
   "metadata": {
    "collapsed": false
   },
   "outputs": [
    {
     "data": {
      "image/png": "[encoded data removed]",
      "text/plain": [
       "<matplotlib.figure.Figure at 0x7fc88596a9e8>"
      ]
     },
     "metadata": {},
     "output_type": "display_data"
    }
   ],
   "source": [
    "plot_all(df)"
   ]
  },
  {
   "cell_type": "markdown",
   "metadata": {},
   "source": [
    "### plot one hour of a given day"
   ]
  },
  {
   "cell_type": "code",
   "execution_count": 125,
   "metadata": {
    "collapsed": false
   },
   "outputs": [
    {
     "data": {
      "image/png": "[encoded data removed]",
      "text/plain": [
       "<matplotlib.figure.Figure at 0x7fc88596a2e8>"
      ]
     },
     "metadata": {},
     "output_type": "display_data"
    }
   ],
   "source": [
    "plot_one_hour(df)"
   ]
  },
  {
   "cell_type": "markdown",
   "metadata": {},
   "source": [
    "### one plot per day, overlayed"
   ]
  },
  {
   "cell_type": "code",
   "execution_count": 126,
   "metadata": {
    "collapsed": false
   },
   "outputs": [
    {
     "data": {
      "image/png": "[encoded data removed]",
      "text/plain": [
       "<matplotlib.figure.Figure at 0x7fc886204ba8>"
      ]
     },
     "metadata": {},
     "output_type": "display_data"
    }
   ],
   "source": [
    "plot_one_per_day_overlay(df)"
   ]
  }
 ],
 "metadata": {
  "kernelspec": {
   "display_name": "Python 3",
   "language": "python",
   "name": "python3"
  },
  "language_info": {
   "codemirror_mode": {
    "name": "ipython",
    "version": 3
   },
   "file_extension": ".py",
   "mimetype": "text/x-python",
   "name": "python",
   "nbconvert_exporter": "python",
   "pygments_lexer": "ipython3",
   "version": "3.5.3"
  }
 },
 "nbformat": 4,
 "nbformat_minor": 2
}
